{
 "cells": [
  {
   "cell_type": "markdown",
   "id": "1a22f48e",
   "metadata": {},
   "source": [
    "### Packages and settings"
   ]
  },
  {
   "cell_type": "code",
   "execution_count": 2,
   "id": "07ef786e",
   "metadata": {},
   "outputs": [],
   "source": [
    "import pandas as pd\n",
    "import numpy as np\n",
    "import seaborn as sns\n",
    "import matplotlib.pyplot as plt\n",
    "from IPython.core.interactiveshell import InteractiveShell\n",
    "InteractiveShell.ast_node_interactivity = \"all\"\n",
    "pd.set_option('display.max_columns', 30)\n"
   ]
  },
  {
   "cell_type": "code",
   "execution_count": 3,
   "id": "ef247fb0",
   "metadata": {},
   "outputs": [
    {
     "data": {
      "text/plain": [
       "(59598, 24)"
      ]
     },
     "execution_count": 3,
     "metadata": {},
     "output_type": "execute_result"
    },
    {
     "data": {
      "text/plain": [
       "(14900, 24)"
      ]
     },
     "execution_count": 3,
     "metadata": {},
     "output_type": "execute_result"
    },
    {
     "data": {
      "text/plain": [
       "(74498, 24)"
      ]
     },
     "execution_count": 3,
     "metadata": {},
     "output_type": "execute_result"
    }
   ],
   "source": [
    "dataset1 = pd.read_csv(\"train.csv\")\n",
    "dataset2 = pd.read_csv(\"test.csv\")\n",
    "\n",
    "\n",
    "dataset = pd.concat([dataset1, dataset2], ignore_index=True)\n",
    "\n",
    "dataset1.shape\n",
    "dataset2.shape\n",
    "dataset.shape\n",
    "\n"
   ]
  },
  {
   "cell_type": "code",
   "execution_count": 4,
   "id": "f9928e0c",
   "metadata": {},
   "outputs": [
    {
     "data": {
      "text/html": [
       "<div>\n",
       "<style scoped>\n",
       "    .dataframe tbody tr th:only-of-type {\n",
       "        vertical-align: middle;\n",
       "    }\n",
       "\n",
       "    .dataframe tbody tr th {\n",
       "        vertical-align: top;\n",
       "    }\n",
       "\n",
       "    .dataframe thead th {\n",
       "        text-align: right;\n",
       "    }\n",
       "</style>\n",
       "<table border=\"1\" class=\"dataframe\">\n",
       "  <thead>\n",
       "    <tr style=\"text-align: right;\">\n",
       "      <th></th>\n",
       "      <th>Employee ID</th>\n",
       "      <th>Age</th>\n",
       "      <th>Gender</th>\n",
       "      <th>Years at Company</th>\n",
       "      <th>Job Role</th>\n",
       "      <th>Monthly Income</th>\n",
       "      <th>Work-Life Balance</th>\n",
       "      <th>Job Satisfaction</th>\n",
       "      <th>Performance Rating</th>\n",
       "      <th>Number of Promotions</th>\n",
       "      <th>Overtime</th>\n",
       "      <th>Distance from Home</th>\n",
       "      <th>Education Level</th>\n",
       "      <th>Marital Status</th>\n",
       "      <th>Number of Dependents</th>\n",
       "      <th>Job Level</th>\n",
       "      <th>Company Size</th>\n",
       "      <th>Company Tenure</th>\n",
       "      <th>Remote Work</th>\n",
       "      <th>Leadership Opportunities</th>\n",
       "      <th>Innovation Opportunities</th>\n",
       "      <th>Company Reputation</th>\n",
       "      <th>Employee Recognition</th>\n",
       "      <th>Attrition</th>\n",
       "    </tr>\n",
       "  </thead>\n",
       "  <tbody>\n",
       "    <tr>\n",
       "      <th>0</th>\n",
       "      <td>8410</td>\n",
       "      <td>31</td>\n",
       "      <td>Male</td>\n",
       "      <td>19</td>\n",
       "      <td>Education</td>\n",
       "      <td>5390</td>\n",
       "      <td>Excellent</td>\n",
       "      <td>Medium</td>\n",
       "      <td>Average</td>\n",
       "      <td>2</td>\n",
       "      <td>No</td>\n",
       "      <td>22</td>\n",
       "      <td>Associate Degree</td>\n",
       "      <td>Married</td>\n",
       "      <td>0</td>\n",
       "      <td>Mid</td>\n",
       "      <td>Medium</td>\n",
       "      <td>89</td>\n",
       "      <td>No</td>\n",
       "      <td>No</td>\n",
       "      <td>No</td>\n",
       "      <td>Excellent</td>\n",
       "      <td>Medium</td>\n",
       "      <td>Stayed</td>\n",
       "    </tr>\n",
       "    <tr>\n",
       "      <th>1</th>\n",
       "      <td>64756</td>\n",
       "      <td>59</td>\n",
       "      <td>Female</td>\n",
       "      <td>4</td>\n",
       "      <td>Media</td>\n",
       "      <td>5534</td>\n",
       "      <td>Poor</td>\n",
       "      <td>High</td>\n",
       "      <td>Low</td>\n",
       "      <td>3</td>\n",
       "      <td>No</td>\n",
       "      <td>21</td>\n",
       "      <td>Master’s Degree</td>\n",
       "      <td>Divorced</td>\n",
       "      <td>3</td>\n",
       "      <td>Mid</td>\n",
       "      <td>Medium</td>\n",
       "      <td>21</td>\n",
       "      <td>No</td>\n",
       "      <td>No</td>\n",
       "      <td>No</td>\n",
       "      <td>Fair</td>\n",
       "      <td>Low</td>\n",
       "      <td>Stayed</td>\n",
       "    </tr>\n",
       "    <tr>\n",
       "      <th>2</th>\n",
       "      <td>30257</td>\n",
       "      <td>24</td>\n",
       "      <td>Female</td>\n",
       "      <td>10</td>\n",
       "      <td>Healthcare</td>\n",
       "      <td>8159</td>\n",
       "      <td>Good</td>\n",
       "      <td>High</td>\n",
       "      <td>Low</td>\n",
       "      <td>0</td>\n",
       "      <td>No</td>\n",
       "      <td>11</td>\n",
       "      <td>Bachelor’s Degree</td>\n",
       "      <td>Married</td>\n",
       "      <td>3</td>\n",
       "      <td>Mid</td>\n",
       "      <td>Medium</td>\n",
       "      <td>74</td>\n",
       "      <td>No</td>\n",
       "      <td>No</td>\n",
       "      <td>No</td>\n",
       "      <td>Poor</td>\n",
       "      <td>Low</td>\n",
       "      <td>Stayed</td>\n",
       "    </tr>\n",
       "    <tr>\n",
       "      <th>3</th>\n",
       "      <td>65791</td>\n",
       "      <td>36</td>\n",
       "      <td>Female</td>\n",
       "      <td>7</td>\n",
       "      <td>Education</td>\n",
       "      <td>3989</td>\n",
       "      <td>Good</td>\n",
       "      <td>High</td>\n",
       "      <td>High</td>\n",
       "      <td>1</td>\n",
       "      <td>No</td>\n",
       "      <td>27</td>\n",
       "      <td>High School</td>\n",
       "      <td>Single</td>\n",
       "      <td>2</td>\n",
       "      <td>Mid</td>\n",
       "      <td>Small</td>\n",
       "      <td>50</td>\n",
       "      <td>Yes</td>\n",
       "      <td>No</td>\n",
       "      <td>No</td>\n",
       "      <td>Good</td>\n",
       "      <td>Medium</td>\n",
       "      <td>Stayed</td>\n",
       "    </tr>\n",
       "    <tr>\n",
       "      <th>4</th>\n",
       "      <td>65026</td>\n",
       "      <td>56</td>\n",
       "      <td>Male</td>\n",
       "      <td>41</td>\n",
       "      <td>Education</td>\n",
       "      <td>4821</td>\n",
       "      <td>Fair</td>\n",
       "      <td>Very High</td>\n",
       "      <td>Average</td>\n",
       "      <td>0</td>\n",
       "      <td>Yes</td>\n",
       "      <td>71</td>\n",
       "      <td>High School</td>\n",
       "      <td>Divorced</td>\n",
       "      <td>0</td>\n",
       "      <td>Senior</td>\n",
       "      <td>Medium</td>\n",
       "      <td>68</td>\n",
       "      <td>No</td>\n",
       "      <td>No</td>\n",
       "      <td>No</td>\n",
       "      <td>Fair</td>\n",
       "      <td>Medium</td>\n",
       "      <td>Stayed</td>\n",
       "    </tr>\n",
       "  </tbody>\n",
       "</table>\n",
       "</div>"
      ],
      "text/plain": [
       "   Employee ID  Age  Gender  Years at Company    Job Role  Monthly Income  \\\n",
       "0         8410   31    Male                19   Education            5390   \n",
       "1        64756   59  Female                 4       Media            5534   \n",
       "2        30257   24  Female                10  Healthcare            8159   \n",
       "3        65791   36  Female                 7   Education            3989   \n",
       "4        65026   56    Male                41   Education            4821   \n",
       "\n",
       "  Work-Life Balance Job Satisfaction Performance Rating  Number of Promotions  \\\n",
       "0         Excellent           Medium            Average                     2   \n",
       "1              Poor             High                Low                     3   \n",
       "2              Good             High                Low                     0   \n",
       "3              Good             High               High                     1   \n",
       "4              Fair        Very High            Average                     0   \n",
       "\n",
       "  Overtime  Distance from Home    Education Level Marital Status  \\\n",
       "0       No                  22   Associate Degree        Married   \n",
       "1       No                  21    Master’s Degree       Divorced   \n",
       "2       No                  11  Bachelor’s Degree        Married   \n",
       "3       No                  27        High School         Single   \n",
       "4      Yes                  71        High School       Divorced   \n",
       "\n",
       "   Number of Dependents Job Level Company Size  Company Tenure Remote Work  \\\n",
       "0                     0       Mid       Medium              89          No   \n",
       "1                     3       Mid       Medium              21          No   \n",
       "2                     3       Mid       Medium              74          No   \n",
       "3                     2       Mid        Small              50         Yes   \n",
       "4                     0    Senior       Medium              68          No   \n",
       "\n",
       "  Leadership Opportunities Innovation Opportunities Company Reputation  \\\n",
       "0                       No                       No          Excellent   \n",
       "1                       No                       No               Fair   \n",
       "2                       No                       No               Poor   \n",
       "3                       No                       No               Good   \n",
       "4                       No                       No               Fair   \n",
       "\n",
       "  Employee Recognition Attrition  \n",
       "0               Medium    Stayed  \n",
       "1                  Low    Stayed  \n",
       "2                  Low    Stayed  \n",
       "3               Medium    Stayed  \n",
       "4               Medium    Stayed  "
      ]
     },
     "execution_count": 4,
     "metadata": {},
     "output_type": "execute_result"
    }
   ],
   "source": [
    "dataset.head()"
   ]
  },
  {
   "cell_type": "markdown",
   "id": "5505bfda-d796-4195-b23a-59cb6129841f",
   "metadata": {},
   "source": [
    "## EDA"
   ]
  },
  {
   "cell_type": "code",
   "execution_count": 6,
   "id": "8c943f3e",
   "metadata": {},
   "outputs": [
    {
     "data": {
      "text/plain": [
       "Stayed    39128\n",
       "Left      35370\n",
       "Name: Attrition, dtype: int64"
      ]
     },
     "execution_count": 6,
     "metadata": {},
     "output_type": "execute_result"
    }
   ],
   "source": [
    "dataset.Attrition.value_counts() # well balanced"
   ]
  },
  {
   "cell_type": "code",
   "execution_count": 7,
   "id": "0b6b1cca",
   "metadata": {},
   "outputs": [
    {
     "data": {
      "text/plain": [
       "Index(['Employee ID', 'Age', 'Gender', 'Years at Company', 'Job Role',\n",
       "       'Monthly Income', 'Work-Life Balance', 'Job Satisfaction',\n",
       "       'Performance Rating', 'Number of Promotions', 'Overtime',\n",
       "       'Distance from Home', 'Education Level', 'Marital Status',\n",
       "       'Number of Dependents', 'Job Level', 'Company Size', 'Company Tenure',\n",
       "       'Remote Work', 'Leadership Opportunities', 'Innovation Opportunities',\n",
       "       'Company Reputation', 'Employee Recognition', 'Attrition'],\n",
       "      dtype='object')"
      ]
     },
     "execution_count": 7,
     "metadata": {},
     "output_type": "execute_result"
    }
   ],
   "source": [
    "dataset.columns"
   ]
  },
  {
   "cell_type": "code",
   "execution_count": 8,
   "id": "708d6d69",
   "metadata": {},
   "outputs": [
    {
     "data": {
      "text/plain": [
       "Employee ID                 False\n",
       "Age                         False\n",
       "Gender                      False\n",
       "Years at Company            False\n",
       "Job Role                    False\n",
       "Monthly Income              False\n",
       "Work-Life Balance           False\n",
       "Job Satisfaction            False\n",
       "Performance Rating          False\n",
       "Number of Promotions        False\n",
       "Overtime                    False\n",
       "Distance from Home          False\n",
       "Education Level             False\n",
       "Marital Status              False\n",
       "Number of Dependents        False\n",
       "Job Level                   False\n",
       "Company Size                False\n",
       "Company Tenure              False\n",
       "Remote Work                 False\n",
       "Leadership Opportunities    False\n",
       "Innovation Opportunities    False\n",
       "Company Reputation          False\n",
       "Employee Recognition        False\n",
       "Attrition                   False\n",
       "dtype: bool"
      ]
     },
     "execution_count": 8,
     "metadata": {},
     "output_type": "execute_result"
    }
   ],
   "source": [
    "# check missings\n",
    "dataset.isna().any()"
   ]
  },
  {
   "cell_type": "code",
   "execution_count": 9,
   "id": "02816a74",
   "metadata": {},
   "outputs": [
    {
     "data": {
      "text/html": [
       "<div>\n",
       "<style scoped>\n",
       "    .dataframe tbody tr th:only-of-type {\n",
       "        vertical-align: middle;\n",
       "    }\n",
       "\n",
       "    .dataframe tbody tr th {\n",
       "        vertical-align: top;\n",
       "    }\n",
       "\n",
       "    .dataframe thead th {\n",
       "        text-align: right;\n",
       "    }\n",
       "</style>\n",
       "<table border=\"1\" class=\"dataframe\">\n",
       "  <thead>\n",
       "    <tr style=\"text-align: right;\">\n",
       "      <th></th>\n",
       "      <th>Employee ID</th>\n",
       "      <th>Age</th>\n",
       "      <th>Years at Company</th>\n",
       "      <th>Monthly Income</th>\n",
       "      <th>Number of Promotions</th>\n",
       "      <th>Distance from Home</th>\n",
       "      <th>Number of Dependents</th>\n",
       "      <th>Company Tenure</th>\n",
       "    </tr>\n",
       "  </thead>\n",
       "  <tbody>\n",
       "    <tr>\n",
       "      <th>count</th>\n",
       "      <td>74498.000000</td>\n",
       "      <td>74498.000000</td>\n",
       "      <td>74498.000000</td>\n",
       "      <td>74498.000000</td>\n",
       "      <td>74498.000000</td>\n",
       "      <td>74498.000000</td>\n",
       "      <td>74498.000000</td>\n",
       "      <td>74498.000000</td>\n",
       "    </tr>\n",
       "    <tr>\n",
       "      <th>mean</th>\n",
       "      <td>37249.500000</td>\n",
       "      <td>38.529746</td>\n",
       "      <td>15.721603</td>\n",
       "      <td>7299.379514</td>\n",
       "      <td>0.832935</td>\n",
       "      <td>49.991584</td>\n",
       "      <td>1.650326</td>\n",
       "      <td>55.727456</td>\n",
       "    </tr>\n",
       "    <tr>\n",
       "      <th>std</th>\n",
       "      <td>21505.864514</td>\n",
       "      <td>12.083456</td>\n",
       "      <td>11.223744</td>\n",
       "      <td>2152.508566</td>\n",
       "      <td>0.995289</td>\n",
       "      <td>28.513611</td>\n",
       "      <td>1.553633</td>\n",
       "      <td>25.399349</td>\n",
       "    </tr>\n",
       "    <tr>\n",
       "      <th>min</th>\n",
       "      <td>1.000000</td>\n",
       "      <td>18.000000</td>\n",
       "      <td>1.000000</td>\n",
       "      <td>1226.000000</td>\n",
       "      <td>0.000000</td>\n",
       "      <td>1.000000</td>\n",
       "      <td>0.000000</td>\n",
       "      <td>2.000000</td>\n",
       "    </tr>\n",
       "    <tr>\n",
       "      <th>25%</th>\n",
       "      <td>18625.250000</td>\n",
       "      <td>28.000000</td>\n",
       "      <td>7.000000</td>\n",
       "      <td>5652.000000</td>\n",
       "      <td>0.000000</td>\n",
       "      <td>25.000000</td>\n",
       "      <td>0.000000</td>\n",
       "      <td>36.000000</td>\n",
       "    </tr>\n",
       "    <tr>\n",
       "      <th>50%</th>\n",
       "      <td>37249.500000</td>\n",
       "      <td>39.000000</td>\n",
       "      <td>13.000000</td>\n",
       "      <td>7348.000000</td>\n",
       "      <td>1.000000</td>\n",
       "      <td>50.000000</td>\n",
       "      <td>1.000000</td>\n",
       "      <td>56.000000</td>\n",
       "    </tr>\n",
       "    <tr>\n",
       "      <th>75%</th>\n",
       "      <td>55873.750000</td>\n",
       "      <td>49.000000</td>\n",
       "      <td>23.000000</td>\n",
       "      <td>8876.000000</td>\n",
       "      <td>2.000000</td>\n",
       "      <td>75.000000</td>\n",
       "      <td>3.000000</td>\n",
       "      <td>76.000000</td>\n",
       "    </tr>\n",
       "    <tr>\n",
       "      <th>max</th>\n",
       "      <td>74498.000000</td>\n",
       "      <td>59.000000</td>\n",
       "      <td>51.000000</td>\n",
       "      <td>16149.000000</td>\n",
       "      <td>4.000000</td>\n",
       "      <td>99.000000</td>\n",
       "      <td>6.000000</td>\n",
       "      <td>128.000000</td>\n",
       "    </tr>\n",
       "  </tbody>\n",
       "</table>\n",
       "</div>"
      ],
      "text/plain": [
       "        Employee ID           Age  Years at Company  Monthly Income  \\\n",
       "count  74498.000000  74498.000000      74498.000000    74498.000000   \n",
       "mean   37249.500000     38.529746         15.721603     7299.379514   \n",
       "std    21505.864514     12.083456         11.223744     2152.508566   \n",
       "min        1.000000     18.000000          1.000000     1226.000000   \n",
       "25%    18625.250000     28.000000          7.000000     5652.000000   \n",
       "50%    37249.500000     39.000000         13.000000     7348.000000   \n",
       "75%    55873.750000     49.000000         23.000000     8876.000000   \n",
       "max    74498.000000     59.000000         51.000000    16149.000000   \n",
       "\n",
       "       Number of Promotions  Distance from Home  Number of Dependents  \\\n",
       "count          74498.000000        74498.000000          74498.000000   \n",
       "mean               0.832935           49.991584              1.650326   \n",
       "std                0.995289           28.513611              1.553633   \n",
       "min                0.000000            1.000000              0.000000   \n",
       "25%                0.000000           25.000000              0.000000   \n",
       "50%                1.000000           50.000000              1.000000   \n",
       "75%                2.000000           75.000000              3.000000   \n",
       "max                4.000000           99.000000              6.000000   \n",
       "\n",
       "       Company Tenure  \n",
       "count    74498.000000  \n",
       "mean        55.727456  \n",
       "std         25.399349  \n",
       "min          2.000000  \n",
       "25%         36.000000  \n",
       "50%         56.000000  \n",
       "75%         76.000000  \n",
       "max        128.000000  "
      ]
     },
     "execution_count": 9,
     "metadata": {},
     "output_type": "execute_result"
    }
   ],
   "source": [
    "dataset.describe()"
   ]
  },
  {
   "cell_type": "code",
   "execution_count": 10,
   "id": "706d60a4-f0dc-46b6-b2a3-4572c54000cb",
   "metadata": {},
   "outputs": [],
   "source": [
    "# boxplots for numerical features\n",
    "# histograms for numerical features to see outliers\n",
    "# barplots for categorical featues"
   ]
  },
  {
   "cell_type": "code",
   "execution_count": 11,
   "id": "aa5ae394-5556-4922-80e2-72ae89a51ab9",
   "metadata": {},
   "outputs": [
    {
     "name": "stdout",
     "output_type": "stream",
     "text": [
      "<class 'pandas.core.frame.DataFrame'>\n",
      "RangeIndex: 74498 entries, 0 to 74497\n",
      "Data columns (total 24 columns):\n",
      " #   Column                    Non-Null Count  Dtype \n",
      "---  ------                    --------------  ----- \n",
      " 0   Employee ID               74498 non-null  int64 \n",
      " 1   Age                       74498 non-null  int64 \n",
      " 2   Gender                    74498 non-null  object\n",
      " 3   Years at Company          74498 non-null  int64 \n",
      " 4   Job Role                  74498 non-null  object\n",
      " 5   Monthly Income            74498 non-null  int64 \n",
      " 6   Work-Life Balance         74498 non-null  object\n",
      " 7   Job Satisfaction          74498 non-null  object\n",
      " 8   Performance Rating        74498 non-null  object\n",
      " 9   Number of Promotions      74498 non-null  int64 \n",
      " 10  Overtime                  74498 non-null  object\n",
      " 11  Distance from Home        74498 non-null  int64 \n",
      " 12  Education Level           74498 non-null  object\n",
      " 13  Marital Status            74498 non-null  object\n",
      " 14  Number of Dependents      74498 non-null  int64 \n",
      " 15  Job Level                 74498 non-null  object\n",
      " 16  Company Size              74498 non-null  object\n",
      " 17  Company Tenure            74498 non-null  int64 \n",
      " 18  Remote Work               74498 non-null  object\n",
      " 19  Leadership Opportunities  74498 non-null  object\n",
      " 20  Innovation Opportunities  74498 non-null  object\n",
      " 21  Company Reputation        74498 non-null  object\n",
      " 22  Employee Recognition      74498 non-null  object\n",
      " 23  Attrition                 74498 non-null  object\n",
      "dtypes: int64(8), object(16)\n",
      "memory usage: 13.6+ MB\n"
     ]
    },
    {
     "data": {
      "text/plain": [
       "{'Age',\n",
       " 'Company Tenure',\n",
       " 'Distance from Home',\n",
       " 'Employee ID',\n",
       " 'Monthly Income',\n",
       " 'Number of Dependents',\n",
       " 'Number of Promotions',\n",
       " 'Years at Company'}"
      ]
     },
     "execution_count": 11,
     "metadata": {},
     "output_type": "execute_result"
    },
    {
     "data": {
      "text/plain": [
       "['Gender',\n",
       " 'Job Role',\n",
       " 'Work-Life Balance',\n",
       " 'Job Satisfaction',\n",
       " 'Performance Rating',\n",
       " 'Overtime',\n",
       " 'Education Level',\n",
       " 'Marital Status',\n",
       " 'Job Level',\n",
       " 'Company Size',\n",
       " 'Remote Work',\n",
       " 'Leadership Opportunities',\n",
       " 'Innovation Opportunities',\n",
       " 'Company Reputation',\n",
       " 'Employee Recognition']"
      ]
     },
     "execution_count": 11,
     "metadata": {},
     "output_type": "execute_result"
    }
   ],
   "source": [
    "dataset.info()\n",
    "categorical_features = dataset.select_dtypes('object').columns.to_list()\n",
    "numerical_features = set(dataset.columns.to_list())- set(categorical_features)\n",
    "numerical_features\n",
    "categorical_features.remove('Attrition')\n",
    "numerical_features.remove('Employee ID')\n",
    "categorical_features\n",
    "\n"
   ]
  },
  {
   "cell_type": "markdown",
   "id": "804c35b3-51a8-48b3-bfc6-a1236227c987",
   "metadata": {},
   "source": [
    "### Boxplots"
   ]
  },
  {
   "cell_type": "code",
   "execution_count": 13,
   "id": "d039c6e5-84de-4f62-ace4-5d9de4fc0935",
   "metadata": {},
   "outputs": [
    {
     "data": {
      "image/png": "[encoded data removed]",
      "text/plain": [
       "<Figure size 864x864 with 7 Axes>"
      ]
     },
     "metadata": {
      "needs_background": "light"
     },
     "output_type": "display_data"
    }
   ],
   "source": [
    "# convert from wide format to tidy format\n",
    "dataset_numerical = dataset[list(numerical_features) + [\"Attrition\"]]\n",
    "dataset_melted = dataset_numerical.melt(id_vars='Attrition')\n",
    "p = sns.catplot(kind='box', data=dataset_melted, x='value', y='Attrition', col='variable', col_wrap=3, height=4, sharex = False)\n",
    "# add figure level title\n",
    "p.fig.subplots_adjust(top=0.9);\n",
    "p.fig.suptitle('Feature vs Attrition', size=16);\n",
    "\n"
   ]
  },
  {
   "cell_type": "markdown",
   "id": "571cb344-2511-43b4-aedd-f5be91dd31b9",
   "metadata": {},
   "source": [
    "### Histograms to see outliers"
   ]
  },
  {
   "cell_type": "code",
   "execution_count": 15,
   "id": "bf13389c-8174-4d62-a7b2-0e8813921470",
   "metadata": {},
   "outputs": [
    {
     "data": {
      "text/html": [
       "<div>\n",
       "<style scoped>\n",
       "    .dataframe tbody tr th:only-of-type {\n",
       "        vertical-align: middle;\n",
       "    }\n",
       "\n",
       "    .dataframe tbody tr th {\n",
       "        vertical-align: top;\n",
       "    }\n",
       "\n",
       "    .dataframe thead th {\n",
       "        text-align: right;\n",
       "    }\n",
       "</style>\n",
       "<table border=\"1\" class=\"dataframe\">\n",
       "  <thead>\n",
       "    <tr style=\"text-align: right;\">\n",
       "      <th></th>\n",
       "      <th>Attrition</th>\n",
       "      <th>variable</th>\n",
       "      <th>value</th>\n",
       "    </tr>\n",
       "  </thead>\n",
       "  <tbody>\n",
       "    <tr>\n",
       "      <th>0</th>\n",
       "      <td>Stayed</td>\n",
       "      <td>Number of Promotions</td>\n",
       "      <td>2</td>\n",
       "    </tr>\n",
       "    <tr>\n",
       "      <th>1</th>\n",
       "      <td>Stayed</td>\n",
       "      <td>Number of Promotions</td>\n",
       "      <td>3</td>\n",
       "    </tr>\n",
       "    <tr>\n",
       "      <th>2</th>\n",
       "      <td>Stayed</td>\n",
       "      <td>Number of Promotions</td>\n",
       "      <td>0</td>\n",
       "    </tr>\n",
       "    <tr>\n",
       "      <th>3</th>\n",
       "      <td>Stayed</td>\n",
       "      <td>Number of Promotions</td>\n",
       "      <td>1</td>\n",
       "    </tr>\n",
       "    <tr>\n",
       "      <th>4</th>\n",
       "      <td>Stayed</td>\n",
       "      <td>Number of Promotions</td>\n",
       "      <td>0</td>\n",
       "    </tr>\n",
       "    <tr>\n",
       "      <th>...</th>\n",
       "      <td>...</td>\n",
       "      <td>...</td>\n",
       "      <td>...</td>\n",
       "    </tr>\n",
       "    <tr>\n",
       "      <th>521481</th>\n",
       "      <td>Stayed</td>\n",
       "      <td>Number of Dependents</td>\n",
       "      <td>0</td>\n",
       "    </tr>\n",
       "    <tr>\n",
       "      <th>521482</th>\n",
       "      <td>Left</td>\n",
       "      <td>Number of Dependents</td>\n",
       "      <td>0</td>\n",
       "    </tr>\n",
       "    <tr>\n",
       "      <th>521483</th>\n",
       "      <td>Left</td>\n",
       "      <td>Number of Dependents</td>\n",
       "      <td>4</td>\n",
       "    </tr>\n",
       "    <tr>\n",
       "      <th>521484</th>\n",
       "      <td>Stayed</td>\n",
       "      <td>Number of Dependents</td>\n",
       "      <td>3</td>\n",
       "    </tr>\n",
       "    <tr>\n",
       "      <th>521485</th>\n",
       "      <td>Left</td>\n",
       "      <td>Number of Dependents</td>\n",
       "      <td>4</td>\n",
       "    </tr>\n",
       "  </tbody>\n",
       "</table>\n",
       "<p>521486 rows × 3 columns</p>\n",
       "</div>"
      ],
      "text/plain": [
       "       Attrition              variable  value\n",
       "0         Stayed  Number of Promotions      2\n",
       "1         Stayed  Number of Promotions      3\n",
       "2         Stayed  Number of Promotions      0\n",
       "3         Stayed  Number of Promotions      1\n",
       "4         Stayed  Number of Promotions      0\n",
       "...          ...                   ...    ...\n",
       "521481    Stayed  Number of Dependents      0\n",
       "521482      Left  Number of Dependents      0\n",
       "521483      Left  Number of Dependents      4\n",
       "521484    Stayed  Number of Dependents      3\n",
       "521485      Left  Number of Dependents      4\n",
       "\n",
       "[521486 rows x 3 columns]"
      ]
     },
     "execution_count": 15,
     "metadata": {},
     "output_type": "execute_result"
    }
   ],
   "source": [
    "dataset_melted"
   ]
  },
  {
   "cell_type": "code",
   "execution_count": 16,
   "id": "a061f521-7b09-404d-98bc-82dfc77ba080",
   "metadata": {},
   "outputs": [
    {
     "data": {
      "image/png": "[encoded data removed]",
      "text/plain": [
       "<Figure size 864x864 with 7 Axes>"
      ]
     },
     "metadata": {
      "needs_background": "light"
     },
     "output_type": "display_data"
    }
   ],
   "source": [
    "g = sns.FacetGrid(dataset_melted, hue=\"Attrition\", col=\"variable\", col_wrap=3, height = 4, sharex=False)\n",
    "g.map(plt.hist, \"value\", alpha=.8, bins = 10);"
   ]
  },
  {
   "cell_type": "markdown",
   "id": "44ab1718-abc4-430c-ac70-9c475ca297fa",
   "metadata": {},
   "source": [
    "### Barplots for categorical features"
   ]
  },
  {
   "cell_type": "code",
   "execution_count": 46,
   "id": "aa01262f-2658-4315-988b-1d17f76d24a4",
   "metadata": {},
   "outputs": [
    {
     "data": {
      "text/html": [
       "<div>\n",
       "<style scoped>\n",
       "    .dataframe tbody tr th:only-of-type {\n",
       "        vertical-align: middle;\n",
       "    }\n",
       "\n",
       "    .dataframe tbody tr th {\n",
       "        vertical-align: top;\n",
       "    }\n",
       "\n",
       "    .dataframe thead th {\n",
       "        text-align: right;\n",
       "    }\n",
       "</style>\n",
       "<table border=\"1\" class=\"dataframe\">\n",
       "  <thead>\n",
       "    <tr style=\"text-align: right;\">\n",
       "      <th></th>\n",
       "      <th>Employee ID</th>\n",
       "      <th>Age</th>\n",
       "      <th>Gender</th>\n",
       "      <th>Years at Company</th>\n",
       "      <th>Job Role</th>\n",
       "      <th>Monthly Income</th>\n",
       "      <th>Work-Life Balance</th>\n",
       "      <th>Job Satisfaction</th>\n",
       "      <th>Performance Rating</th>\n",
       "      <th>Number of Promotions</th>\n",
       "      <th>Overtime</th>\n",
       "      <th>Distance from Home</th>\n",
       "      <th>Education Level</th>\n",
       "      <th>Marital Status</th>\n",
       "      <th>Number of Dependents</th>\n",
       "      <th>Job Level</th>\n",
       "      <th>Company Size</th>\n",
       "      <th>Company Tenure</th>\n",
       "      <th>Remote Work</th>\n",
       "      <th>Leadership Opportunities</th>\n",
       "      <th>Innovation Opportunities</th>\n",
       "      <th>Company Reputation</th>\n",
       "      <th>Employee Recognition</th>\n",
       "      <th>Attrition</th>\n",
       "    </tr>\n",
       "  </thead>\n",
       "  <tbody>\n",
       "    <tr>\n",
       "      <th>0</th>\n",
       "      <td>8410</td>\n",
       "      <td>31</td>\n",
       "      <td>Male</td>\n",
       "      <td>19</td>\n",
       "      <td>Education</td>\n",
       "      <td>5390</td>\n",
       "      <td>Excellent</td>\n",
       "      <td>Medium</td>\n",
       "      <td>Average</td>\n",
       "      <td>2</td>\n",
       "      <td>No</td>\n",
       "      <td>22</td>\n",
       "      <td>Associate Degree</td>\n",
       "      <td>Married</td>\n",
       "      <td>0</td>\n",
       "      <td>Mid</td>\n",
       "      <td>Medium</td>\n",
       "      <td>89</td>\n",
       "      <td>No</td>\n",
       "      <td>No</td>\n",
       "      <td>No</td>\n",
       "      <td>Excellent</td>\n",
       "      <td>Medium</td>\n",
       "      <td>Stayed</td>\n",
       "    </tr>\n",
       "    <tr>\n",
       "      <th>1</th>\n",
       "      <td>64756</td>\n",
       "      <td>59</td>\n",
       "      <td>Female</td>\n",
       "      <td>4</td>\n",
       "      <td>Media</td>\n",
       "      <td>5534</td>\n",
       "      <td>Poor</td>\n",
       "      <td>High</td>\n",
       "      <td>Low</td>\n",
       "      <td>3</td>\n",
       "      <td>No</td>\n",
       "      <td>21</td>\n",
       "      <td>Master’s Degree</td>\n",
       "      <td>Divorced</td>\n",
       "      <td>3</td>\n",
       "      <td>Mid</td>\n",
       "      <td>Medium</td>\n",
       "      <td>21</td>\n",
       "      <td>No</td>\n",
       "      <td>No</td>\n",
       "      <td>No</td>\n",
       "      <td>Fair</td>\n",
       "      <td>Low</td>\n",
       "      <td>Stayed</td>\n",
       "    </tr>\n",
       "    <tr>\n",
       "      <th>2</th>\n",
       "      <td>30257</td>\n",
       "      <td>24</td>\n",
       "      <td>Female</td>\n",
       "      <td>10</td>\n",
       "      <td>Healthcare</td>\n",
       "      <td>8159</td>\n",
       "      <td>Good</td>\n",
       "      <td>High</td>\n",
       "      <td>Low</td>\n",
       "      <td>0</td>\n",
       "      <td>No</td>\n",
       "      <td>11</td>\n",
       "      <td>Bachelor’s Degree</td>\n",
       "      <td>Married</td>\n",
       "      <td>3</td>\n",
       "      <td>Mid</td>\n",
       "      <td>Medium</td>\n",
       "      <td>74</td>\n",
       "      <td>No</td>\n",
       "      <td>No</td>\n",
       "      <td>No</td>\n",
       "      <td>Poor</td>\n",
       "      <td>Low</td>\n",
       "      <td>Stayed</td>\n",
       "    </tr>\n",
       "    <tr>\n",
       "      <th>3</th>\n",
       "      <td>65791</td>\n",
       "      <td>36</td>\n",
       "      <td>Female</td>\n",
       "      <td>7</td>\n",
       "      <td>Education</td>\n",
       "      <td>3989</td>\n",
       "      <td>Good</td>\n",
       "      <td>High</td>\n",
       "      <td>High</td>\n",
       "      <td>1</td>\n",
       "      <td>No</td>\n",
       "      <td>27</td>\n",
       "      <td>High School</td>\n",
       "      <td>Single</td>\n",
       "      <td>2</td>\n",
       "      <td>Mid</td>\n",
       "      <td>Small</td>\n",
       "      <td>50</td>\n",
       "      <td>Yes</td>\n",
       "      <td>No</td>\n",
       "      <td>No</td>\n",
       "      <td>Good</td>\n",
       "      <td>Medium</td>\n",
       "      <td>Stayed</td>\n",
       "    </tr>\n",
       "    <tr>\n",
       "      <th>4</th>\n",
       "      <td>65026</td>\n",
       "      <td>56</td>\n",
       "      <td>Male</td>\n",
       "      <td>41</td>\n",
       "      <td>Education</td>\n",
       "      <td>4821</td>\n",
       "      <td>Fair</td>\n",
       "      <td>Very High</td>\n",
       "      <td>Average</td>\n",
       "      <td>0</td>\n",
       "      <td>Yes</td>\n",
       "      <td>71</td>\n",
       "      <td>High School</td>\n",
       "      <td>Divorced</td>\n",
       "      <td>0</td>\n",
       "      <td>Senior</td>\n",
       "      <td>Medium</td>\n",
       "      <td>68</td>\n",
       "      <td>No</td>\n",
       "      <td>No</td>\n",
       "      <td>No</td>\n",
       "      <td>Fair</td>\n",
       "      <td>Medium</td>\n",
       "      <td>Stayed</td>\n",
       "    </tr>\n",
       "    <tr>\n",
       "      <th>...</th>\n",
       "      <td>...</td>\n",
       "      <td>...</td>\n",
       "      <td>...</td>\n",
       "      <td>...</td>\n",
       "      <td>...</td>\n",
       "      <td>...</td>\n",
       "      <td>...</td>\n",
       "      <td>...</td>\n",
       "      <td>...</td>\n",
       "      <td>...</td>\n",
       "      <td>...</td>\n",
       "      <td>...</td>\n",
       "      <td>...</td>\n",
       "      <td>...</td>\n",
       "      <td>...</td>\n",
       "      <td>...</td>\n",
       "      <td>...</td>\n",
       "      <td>...</td>\n",
       "      <td>...</td>\n",
       "      <td>...</td>\n",
       "      <td>...</td>\n",
       "      <td>...</td>\n",
       "      <td>...</td>\n",
       "      <td>...</td>\n",
       "    </tr>\n",
       "    <tr>\n",
       "      <th>74493</th>\n",
       "      <td>16243</td>\n",
       "      <td>56</td>\n",
       "      <td>Female</td>\n",
       "      <td>42</td>\n",
       "      <td>Healthcare</td>\n",
       "      <td>7830</td>\n",
       "      <td>Poor</td>\n",
       "      <td>Medium</td>\n",
       "      <td>Average</td>\n",
       "      <td>0</td>\n",
       "      <td>Yes</td>\n",
       "      <td>40</td>\n",
       "      <td>Associate Degree</td>\n",
       "      <td>Single</td>\n",
       "      <td>0</td>\n",
       "      <td>Senior</td>\n",
       "      <td>Medium</td>\n",
       "      <td>60</td>\n",
       "      <td>No</td>\n",
       "      <td>No</td>\n",
       "      <td>No</td>\n",
       "      <td>Poor</td>\n",
       "      <td>Medium</td>\n",
       "      <td>Stayed</td>\n",
       "    </tr>\n",
       "    <tr>\n",
       "      <th>74494</th>\n",
       "      <td>47175</td>\n",
       "      <td>30</td>\n",
       "      <td>Female</td>\n",
       "      <td>15</td>\n",
       "      <td>Education</td>\n",
       "      <td>3856</td>\n",
       "      <td>Good</td>\n",
       "      <td>Medium</td>\n",
       "      <td>Average</td>\n",
       "      <td>2</td>\n",
       "      <td>Yes</td>\n",
       "      <td>45</td>\n",
       "      <td>Master’s Degree</td>\n",
       "      <td>Married</td>\n",
       "      <td>0</td>\n",
       "      <td>Entry</td>\n",
       "      <td>Medium</td>\n",
       "      <td>20</td>\n",
       "      <td>No</td>\n",
       "      <td>No</td>\n",
       "      <td>No</td>\n",
       "      <td>Good</td>\n",
       "      <td>Medium</td>\n",
       "      <td>Left</td>\n",
       "    </tr>\n",
       "    <tr>\n",
       "      <th>74495</th>\n",
       "      <td>12409</td>\n",
       "      <td>52</td>\n",
       "      <td>Male</td>\n",
       "      <td>5</td>\n",
       "      <td>Education</td>\n",
       "      <td>5654</td>\n",
       "      <td>Good</td>\n",
       "      <td>Very High</td>\n",
       "      <td>Below Average</td>\n",
       "      <td>0</td>\n",
       "      <td>No</td>\n",
       "      <td>4</td>\n",
       "      <td>Associate Degree</td>\n",
       "      <td>Married</td>\n",
       "      <td>4</td>\n",
       "      <td>Mid</td>\n",
       "      <td>Small</td>\n",
       "      <td>7</td>\n",
       "      <td>No</td>\n",
       "      <td>No</td>\n",
       "      <td>No</td>\n",
       "      <td>Good</td>\n",
       "      <td>High</td>\n",
       "      <td>Left</td>\n",
       "    </tr>\n",
       "    <tr>\n",
       "      <th>74496</th>\n",
       "      <td>9554</td>\n",
       "      <td>18</td>\n",
       "      <td>Male</td>\n",
       "      <td>4</td>\n",
       "      <td>Education</td>\n",
       "      <td>5276</td>\n",
       "      <td>Fair</td>\n",
       "      <td>High</td>\n",
       "      <td>Average</td>\n",
       "      <td>0</td>\n",
       "      <td>No</td>\n",
       "      <td>13</td>\n",
       "      <td>Bachelor’s Degree</td>\n",
       "      <td>Divorced</td>\n",
       "      <td>3</td>\n",
       "      <td>Mid</td>\n",
       "      <td>Large</td>\n",
       "      <td>5</td>\n",
       "      <td>No</td>\n",
       "      <td>No</td>\n",
       "      <td>No</td>\n",
       "      <td>Poor</td>\n",
       "      <td>High</td>\n",
       "      <td>Stayed</td>\n",
       "    </tr>\n",
       "    <tr>\n",
       "      <th>74497</th>\n",
       "      <td>73042</td>\n",
       "      <td>59</td>\n",
       "      <td>Female</td>\n",
       "      <td>48</td>\n",
       "      <td>Education</td>\n",
       "      <td>3774</td>\n",
       "      <td>Good</td>\n",
       "      <td>High</td>\n",
       "      <td>Below Average</td>\n",
       "      <td>1</td>\n",
       "      <td>No</td>\n",
       "      <td>64</td>\n",
       "      <td>High School</td>\n",
       "      <td>Divorced</td>\n",
       "      <td>4</td>\n",
       "      <td>Mid</td>\n",
       "      <td>Large</td>\n",
       "      <td>118</td>\n",
       "      <td>No</td>\n",
       "      <td>No</td>\n",
       "      <td>No</td>\n",
       "      <td>Good</td>\n",
       "      <td>Very High</td>\n",
       "      <td>Left</td>\n",
       "    </tr>\n",
       "  </tbody>\n",
       "</table>\n",
       "<p>74498 rows × 24 columns</p>\n",
       "</div>"
      ],
      "text/plain": [
       "       Employee ID  Age  Gender  Years at Company    Job Role  Monthly Income  \\\n",
       "0             8410   31    Male                19   Education            5390   \n",
       "1            64756   59  Female                 4       Media            5534   \n",
       "2            30257   24  Female                10  Healthcare            8159   \n",
       "3            65791   36  Female                 7   Education            3989   \n",
       "4            65026   56    Male                41   Education            4821   \n",
       "...            ...  ...     ...               ...         ...             ...   \n",
       "74493        16243   56  Female                42  Healthcare            7830   \n",
       "74494        47175   30  Female                15   Education            3856   \n",
       "74495        12409   52    Male                 5   Education            5654   \n",
       "74496         9554   18    Male                 4   Education            5276   \n",
       "74497        73042   59  Female                48   Education            3774   \n",
       "\n",
       "      Work-Life Balance Job Satisfaction Performance Rating  \\\n",
       "0             Excellent           Medium            Average   \n",
       "1                  Poor             High                Low   \n",
       "2                  Good             High                Low   \n",
       "3                  Good             High               High   \n",
       "4                  Fair        Very High            Average   \n",
       "...                 ...              ...                ...   \n",
       "74493              Poor           Medium            Average   \n",
       "74494              Good           Medium            Average   \n",
       "74495              Good        Very High      Below Average   \n",
       "74496              Fair             High            Average   \n",
       "74497              Good             High      Below Average   \n",
       "\n",
       "       Number of Promotions Overtime  Distance from Home    Education Level  \\\n",
       "0                         2       No                  22   Associate Degree   \n",
       "1                         3       No                  21    Master’s Degree   \n",
       "2                         0       No                  11  Bachelor’s Degree   \n",
       "3                         1       No                  27        High School   \n",
       "4                         0      Yes                  71        High School   \n",
       "...                     ...      ...                 ...                ...   \n",
       "74493                     0      Yes                  40   Associate Degree   \n",
       "74494                     2      Yes                  45    Master’s Degree   \n",
       "74495                     0       No                   4   Associate Degree   \n",
       "74496                     0       No                  13  Bachelor’s Degree   \n",
       "74497                     1       No                  64        High School   \n",
       "\n",
       "      Marital Status  Number of Dependents Job Level Company Size  \\\n",
       "0            Married                     0       Mid       Medium   \n",
       "1           Divorced                     3       Mid       Medium   \n",
       "2            Married                     3       Mid       Medium   \n",
       "3             Single                     2       Mid        Small   \n",
       "4           Divorced                     0    Senior       Medium   \n",
       "...              ...                   ...       ...          ...   \n",
       "74493         Single                     0    Senior       Medium   \n",
       "74494        Married                     0     Entry       Medium   \n",
       "74495        Married                     4       Mid        Small   \n",
       "74496       Divorced                     3       Mid        Large   \n",
       "74497       Divorced                     4       Mid        Large   \n",
       "\n",
       "       Company Tenure Remote Work Leadership Opportunities  \\\n",
       "0                  89          No                       No   \n",
       "1                  21          No                       No   \n",
       "2                  74          No                       No   \n",
       "3                  50         Yes                       No   \n",
       "4                  68          No                       No   \n",
       "...               ...         ...                      ...   \n",
       "74493              60          No                       No   \n",
       "74494              20          No                       No   \n",
       "74495               7          No                       No   \n",
       "74496               5          No                       No   \n",
       "74497             118          No                       No   \n",
       "\n",
       "      Innovation Opportunities Company Reputation Employee Recognition  \\\n",
       "0                           No          Excellent               Medium   \n",
       "1                           No               Fair                  Low   \n",
       "2                           No               Poor                  Low   \n",
       "3                           No               Good               Medium   \n",
       "4                           No               Fair               Medium   \n",
       "...                        ...                ...                  ...   \n",
       "74493                       No               Poor               Medium   \n",
       "74494                       No               Good               Medium   \n",
       "74495                       No               Good                 High   \n",
       "74496                       No               Poor                 High   \n",
       "74497                       No               Good            Very High   \n",
       "\n",
       "      Attrition  \n",
       "0        Stayed  \n",
       "1        Stayed  \n",
       "2        Stayed  \n",
       "3        Stayed  \n",
       "4        Stayed  \n",
       "...         ...  \n",
       "74493    Stayed  \n",
       "74494      Left  \n",
       "74495      Left  \n",
       "74496    Stayed  \n",
       "74497      Left  \n",
       "\n",
       "[74498 rows x 24 columns]"
      ]
     },
     "execution_count": 46,
     "metadata": {},
     "output_type": "execute_result"
    }
   ],
   "source": [
    "dataset"
   ]
  },
  {
   "cell_type": "code",
   "execution_count": 64,
   "id": "3b238663-773e-482f-875f-cc4f37061975",
   "metadata": {},
   "outputs": [
    {
     "data": {
      "text/plain": [
       "<seaborn.axisgrid.FacetGrid at 0x249168b6ca0>"
      ]
     },
     "execution_count": 64,
     "metadata": {},
     "output_type": "execute_result"
    },
    {
     "data": {
      "text/plain": [
       "<seaborn.axisgrid.FacetGrid at 0x249168b6ca0>"
      ]
     },
     "execution_count": 64,
     "metadata": {},
     "output_type": "execute_result"
    },
    {
     "data": {
      "text/plain": [
       "Text(0.5, 0.98, 'Categorical Features Distribution by Attrition')"
      ]
     },
     "execution_count": 64,
     "metadata": {},
     "output_type": "execute_result"
    },
    {
     "data": {
      "text/plain": [
       "<matplotlib.legend.Legend at 0x2491b166310>"
      ]
     },
     "execution_count": 64,
     "metadata": {},
     "output_type": "execute_result"
    },
    {
     "data": {
      "text/plain": [
       "<matplotlib.legend.Legend at 0x2491993abe0>"
      ]
     },
     "execution_count": 64,
     "metadata": {},
     "output_type": "execute_result"
    },
    {
     "data": {
      "text/plain": [
       "<matplotlib.legend.Legend at 0x2491720a5b0>"
      ]
     },
     "execution_count": 64,
     "metadata": {},
     "output_type": "execute_result"
    },
    {
     "data": {
      "text/plain": [
       "<matplotlib.legend.Legend at 0x2491720f4f0>"
      ]
     },
     "execution_count": 64,
     "metadata": {},
     "output_type": "execute_result"
    },
    {
     "data": {
      "text/plain": [
       "<matplotlib.legend.Legend at 0x24917215220>"
      ]
     },
     "execution_count": 64,
     "metadata": {},
     "output_type": "execute_result"
    },
    {
     "data": {
      "text/plain": [
       "<matplotlib.legend.Legend at 0x2491721c220>"
      ]
     },
     "execution_count": 64,
     "metadata": {},
     "output_type": "execute_result"
    },
    {
     "data": {
      "text/plain": [
       "<matplotlib.legend.Legend at 0x24917222220>"
      ]
     },
     "execution_count": 64,
     "metadata": {},
     "output_type": "execute_result"
    },
    {
     "data": {
      "text/plain": [
       "<matplotlib.legend.Legend at 0x24917228220>"
      ]
     },
     "execution_count": 64,
     "metadata": {},
     "output_type": "execute_result"
    },
    {
     "data": {
      "text/plain": [
       "<matplotlib.legend.Legend at 0x2491722e220>"
      ]
     },
     "execution_count": 64,
     "metadata": {},
     "output_type": "execute_result"
    },
    {
     "data": {
      "text/plain": [
       "<matplotlib.legend.Legend at 0x249171fefa0>"
      ]
     },
     "execution_count": 64,
     "metadata": {},
     "output_type": "execute_result"
    },
    {
     "data": {
      "text/plain": [
       "<matplotlib.legend.Legend at 0x249171f1a60>"
      ]
     },
     "execution_count": 64,
     "metadata": {},
     "output_type": "execute_result"
    },
    {
     "data": {
      "text/plain": [
       "<matplotlib.legend.Legend at 0x2491723c850>"
      ]
     },
     "execution_count": 64,
     "metadata": {},
     "output_type": "execute_result"
    },
    {
     "data": {
      "text/plain": [
       "<matplotlib.legend.Legend at 0x24917246880>"
      ]
     },
     "execution_count": 64,
     "metadata": {},
     "output_type": "execute_result"
    },
    {
     "data": {
      "text/plain": [
       "<matplotlib.legend.Legend at 0x2491724a850>"
      ]
     },
     "execution_count": 64,
     "metadata": {},
     "output_type": "execute_result"
    },
    {
     "data": {
      "text/plain": [
       "<matplotlib.legend.Legend at 0x249172528e0>"
      ]
     },
     "execution_count": 64,
     "metadata": {},
     "output_type": "execute_result"
    },
    {
     "data": {
      "image/png": "[encoded data removed]",
      "text/plain": [
       "<Figure size 1296x1440 with 15 Axes>"
      ]
     },
     "metadata": {
      "needs_background": "light"
     },
     "output_type": "display_data"
    }
   ],
   "source": [
    "dataset_categorical = dataset[list(categorical_features) + [\"Attrition\"]]\n",
    "dataset_cat_melted = dataset_categorical.melt(id_vars='Attrition')\n",
    "g = sns.FacetGrid(dataset_cat_melted,\n",
    "    col='variable', hue='Attrition', col_wrap=3, height=4, aspect=1.5, sharex=False\n",
    ");\n",
    "g.map(sns.countplot, 'value', order=None);\n",
    "g.set_titles(\"{col_name} Distribution by Attrition\");\n",
    "g.fig.subplots_adjust(top=0.9);\n",
    "g.fig.suptitle('Categorical Features Distribution by Attrition', size=16);\n",
    "for ax in g.axes.ravel():\n",
    "    ax.legend(title=\"Attrition\",  loc='upper right');\n"
   ]
  }
 ],
 "metadata": {
  "kernelspec": {
   "display_name": "Python 3 (ipykernel)",
   "language": "python",
   "name": "python3"
  },
  "language_info": {
   "codemirror_mode": {
    "name": "ipython",
    "version": 3
   },
   "file_extension": ".py",
   "mimetype": "text/x-python",
   "name": "python",
   "nbconvert_exporter": "python",
   "pygments_lexer": "ipython3",
   "version": "3.9.18"
  }
 },
 "nbformat": 4,
 "nbformat_minor": 5
}
